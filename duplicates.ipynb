{
 "cells": [
  {
   "cell_type": "markdown",
   "metadata": {},
   "source": [
    "## Libraries"
   ]
  },
  {
   "cell_type": "code",
   "execution_count": null,
   "metadata": {},
   "outputs": [],
   "source": [
    "import re\n",
    "import numpy as np\n",
    "import pandas as pd\n",
    "import matplotlib.pyplot as plt\n",
    "from nltk.corpus import stopwords\n",
    "from nltk.stem import SnowballStemmer, WordNetLemmatizer\n",
    "from keras.preprocessing.text import Tokenizer\n",
    "from keras.preprocessing.sequence import pad_sequences\n",
    "from keras.optimizers import Nadam\n",
    "from keras.layers import Dense, Input, LSTM, Embedding, Dropout, Activation\n",
    "from keras.layers.merge import concatenate\n",
    "from keras.models import Model\n",
    "from keras.callbacks import EarlyStopping, ModelCheckpoint\n",
    "#nltk.download(\"stopwords\")\n",
    "#nltk.download(\"wordnet\")\n",
    "%matplotlib inline"
   ]
  },
  {
   "cell_type": "markdown",
   "metadata": {},
   "source": [
    "## Display data"
   ]
  },
  {
   "cell_type": "code",
   "execution_count": 2,
   "metadata": {},
   "outputs": [
    {
     "data": {
      "text/html": [
       "<div>\n",
       "<style scoped>\n",
       "    .dataframe tbody tr th:only-of-type {\n",
       "        vertical-align: middle;\n",
       "    }\n",
       "\n",
       "    .dataframe tbody tr th {\n",
       "        vertical-align: top;\n",
       "    }\n",
       "\n",
       "    .dataframe thead th {\n",
       "        text-align: right;\n",
       "    }\n",
       "</style>\n",
       "<table border=\"1\" class=\"dataframe\">\n",
       "  <thead>\n",
       "    <tr style=\"text-align: right;\">\n",
       "      <th></th>\n",
       "      <th>question1</th>\n",
       "      <th>question2</th>\n",
       "      <th>is_duplicate</th>\n",
       "    </tr>\n",
       "  </thead>\n",
       "  <tbody>\n",
       "    <tr>\n",
       "      <th>0</th>\n",
       "      <td>What is the step by step guide to invest in sh...</td>\n",
       "      <td>What is the step by step guide to invest in sh...</td>\n",
       "      <td>0</td>\n",
       "    </tr>\n",
       "    <tr>\n",
       "      <th>1</th>\n",
       "      <td>What is the story of Kohinoor (Koh-i-Noor) Dia...</td>\n",
       "      <td>What would happen if the Indian government sto...</td>\n",
       "      <td>0</td>\n",
       "    </tr>\n",
       "    <tr>\n",
       "      <th>2</th>\n",
       "      <td>How can I increase the speed of my internet co...</td>\n",
       "      <td>How can Internet speed be increased by hacking...</td>\n",
       "      <td>0</td>\n",
       "    </tr>\n",
       "    <tr>\n",
       "      <th>3</th>\n",
       "      <td>Why am I mentally very lonely? How can I solve...</td>\n",
       "      <td>Find the remainder when [math]23^{24}[/math] i...</td>\n",
       "      <td>0</td>\n",
       "    </tr>\n",
       "    <tr>\n",
       "      <th>4</th>\n",
       "      <td>Which one dissolve in water quikly sugar, salt...</td>\n",
       "      <td>Which fish would survive in salt water?</td>\n",
       "      <td>0</td>\n",
       "    </tr>\n",
       "    <tr>\n",
       "      <th>5</th>\n",
       "      <td>Astrology: I am a Capricorn Sun Cap moon and c...</td>\n",
       "      <td>I'm a triple Capricorn (Sun, Moon and ascendan...</td>\n",
       "      <td>1</td>\n",
       "    </tr>\n",
       "    <tr>\n",
       "      <th>6</th>\n",
       "      <td>Should I buy tiago?</td>\n",
       "      <td>What keeps childern active and far from phone ...</td>\n",
       "      <td>0</td>\n",
       "    </tr>\n",
       "    <tr>\n",
       "      <th>7</th>\n",
       "      <td>How can I be a good geologist?</td>\n",
       "      <td>What should I do to be a great geologist?</td>\n",
       "      <td>1</td>\n",
       "    </tr>\n",
       "    <tr>\n",
       "      <th>8</th>\n",
       "      <td>When do you use シ instead of し?</td>\n",
       "      <td>When do you use \"&amp;\" instead of \"and\"?</td>\n",
       "      <td>0</td>\n",
       "    </tr>\n",
       "    <tr>\n",
       "      <th>9</th>\n",
       "      <td>Motorola (company): Can I hack my Charter Moto...</td>\n",
       "      <td>How do I hack Motorola DCX3400 for free internet?</td>\n",
       "      <td>0</td>\n",
       "    </tr>\n",
       "  </tbody>\n",
       "</table>\n",
       "</div>"
      ],
      "text/plain": [
       "                                           question1  \\\n",
       "0  What is the step by step guide to invest in sh...   \n",
       "1  What is the story of Kohinoor (Koh-i-Noor) Dia...   \n",
       "2  How can I increase the speed of my internet co...   \n",
       "3  Why am I mentally very lonely? How can I solve...   \n",
       "4  Which one dissolve in water quikly sugar, salt...   \n",
       "5  Astrology: I am a Capricorn Sun Cap moon and c...   \n",
       "6                                Should I buy tiago?   \n",
       "7                     How can I be a good geologist?   \n",
       "8                    When do you use シ instead of し?   \n",
       "9  Motorola (company): Can I hack my Charter Moto...   \n",
       "\n",
       "                                           question2  is_duplicate  \n",
       "0  What is the step by step guide to invest in sh...             0  \n",
       "1  What would happen if the Indian government sto...             0  \n",
       "2  How can Internet speed be increased by hacking...             0  \n",
       "3  Find the remainder when [math]23^{24}[/math] i...             0  \n",
       "4            Which fish would survive in salt water?             0  \n",
       "5  I'm a triple Capricorn (Sun, Moon and ascendan...             1  \n",
       "6  What keeps childern active and far from phone ...             0  \n",
       "7          What should I do to be a great geologist?             1  \n",
       "8              When do you use \"&\" instead of \"and\"?             0  \n",
       "9  How do I hack Motorola DCX3400 for free internet?             0  "
      ]
     },
     "execution_count": 2,
     "metadata": {},
     "output_type": "execute_result"
    }
   ],
   "source": [
    "train_df = pd.read_csv(\"./input/train.csv\")\n",
    "train_df = train_df.fillna(\"empty\")\n",
    "train_df = train_df.drop([\"id\", \"qid1\", \"qid2\"], axis = 1)\n",
    "train_df.head(10)"
   ]
  },
  {
   "cell_type": "code",
   "execution_count": 3,
   "metadata": {},
   "outputs": [
    {
     "data": {
      "text/plain": [
       "Text(0.5, 1.0, 'Class proportions')"
      ]
     },
     "execution_count": 3,
     "metadata": {},
     "output_type": "execute_result"
    },
    {
     "data": {
      "image/png": "[encoded data removed]",
      "text/plain": [
       "<Figure size 432x288 with 1 Axes>"
      ]
     },
     "metadata": {
      "needs_background": "light"
     },
     "output_type": "display_data"
    }
   ],
   "source": [
    "(train_df[\"is_duplicate\"].value_counts() / len(train_df)).plot(\"bar\")\n",
    "plt.title(\"Class proportions\")"
   ]
  },
  {
   "cell_type": "code",
   "execution_count": 4,
   "metadata": {},
   "outputs": [],
   "source": [
    "test_df = pd.read_csv(\"./input/test.csv\")\n",
    "test_df = test_df.fillna(\"empty\")"
   ]
  },
  {
   "cell_type": "markdown",
   "metadata": {},
   "source": [
    "## Preprocess text sequences"
   ]
  },
  {
   "cell_type": "code",
   "execution_count": 5,
   "metadata": {},
   "outputs": [],
   "source": [
    "def text_to_wordlist(text):\n",
    "    \"\"\"Clean the text, remove stop words and stem words.\"\"\"\n",
    "    \n",
    "    # --------- Convert to lower case, replace chars and split to list ---------\n",
    "    text = text.lower()\n",
    "    text = text.replace(\"\\\\\", \" \")\n",
    "    text = text.replace(\"/\", \" \")\n",
    "    text = re.sub(\"[\\][_.,:;!?+=*~#$%&(){}|<>@^`“”]\", \"\", text)\n",
    "    text = text.split(\" \")\n",
    "    \n",
    "    # --------- Remove stop words ---------\n",
    "    #stop_words = set(stopwords.words(\"english\"))\n",
    "    #text = [word\n",
    "    #        for word in text\n",
    "    #        if not word in stop_words]    \n",
    "    \n",
    "    # --------- Lemmatize words ---------\n",
    "    #lemmatizer = WordNetLemmatizer() \n",
    "    #text = [lemmatizer.lemmatize(word) for word in text] \n",
    "    \n",
    "    # --------- Shorten words to their stems ---------\n",
    "    stemmer = SnowballStemmer(\"english\")\n",
    "    text = [stemmer.stem(word) for word in text]\n",
    "    \n",
    "    # --------- Return list of words ---------    \n",
    "    return(text)\n",
    "\n",
    "def process_questions(input_list):\n",
    "    \"\"\"Preprocess questions creating a list (of word lists)\"\"\"\n",
    "    output_list = []\n",
    "    for question in input_list:\n",
    "        output_list.append(text_to_wordlist(question))\n",
    "    return output_list"
   ]
  },
  {
   "cell_type": "code",
   "execution_count": 6,
   "metadata": {},
   "outputs": [
    {
     "name": "stdout",
     "output_type": "stream",
     "text": [
      "Found 404290 texts in training data\n"
     ]
    }
   ],
   "source": [
    "questions_1_train = process_questions(train_df[\"question1\"])\n",
    "questions_2_train = process_questions(train_df[\"question2\"])\n",
    "\n",
    "labels_train = np.array(train_df[\"is_duplicate\"])\n",
    "\n",
    "print(f\"Found {len(labels_train)} texts in training data\")"
   ]
  },
  {
   "cell_type": "code",
   "execution_count": 8,
   "metadata": {},
   "outputs": [
    {
     "name": "stdout",
     "output_type": "stream",
     "text": [
      "Found 2345796 texts in test data\n"
     ]
    }
   ],
   "source": [
    "questions_1_test = process_questions(test_df[\"question1\"])\n",
    "questions_2_test = process_questions(test_df[\"question2\"])\n",
    "\n",
    "ids_test = test_df[\"test_id\"] # need only for submission\n",
    "\n",
    "print(f\"Found {len(ids_test)} texts in test data\")"
   ]
  },
  {
   "cell_type": "code",
   "execution_count": 7,
   "metadata": {},
   "outputs": [
    {
     "name": "stdout",
     "output_type": "stream",
     "text": [
      "0: ['what', 'is', 'the', 'step', 'by', 'step', 'guid', 'to', 'invest', 'in', 'share', 'market', 'in', 'india']\n",
      "1: ['what', 'is', 'the', 'stori', 'of', 'kohinoor', 'koh-i-noor', 'diamond']\n",
      "2: ['how', 'can', 'i', 'increas', 'the', 'speed', 'of', 'my', 'internet', 'connect', 'while', 'use', 'a', 'vpn']\n",
      "3: ['whi', 'am', 'i', 'mental', 'veri', 'lone', 'how', 'can', 'i', 'solv', 'it']\n",
      "4: ['which', 'one', 'dissolv', 'in', 'water', 'quik', 'sugar', 'salt', 'methan', 'and', 'carbon', 'di', 'oxid']\n"
     ]
    }
   ],
   "source": [
    "# --------- Check results of preprocessing ---------\n",
    "for i in range(5):\n",
    "    print(f\"{i}: {questions_1_train[i]}\")"
   ]
  },
  {
   "cell_type": "code",
   "execution_count": 9,
   "metadata": {},
   "outputs": [
    {
     "name": "stdout",
     "output_type": "stream",
     "text": [
      "Found 131073 unique tokens in data\n"
     ]
    }
   ],
   "source": [
    "# --------- Create vocabulary index based on word frequency ---------\n",
    "tokenizer = Tokenizer(num_words = 200_000) # 200K is the maximum number of words to keep\n",
    "tokenizer.fit_on_texts(questions_1_train + questions_2_train + questions_1_test + questions_2_test)\n",
    "\n",
    "# --------- Transform each text to a vector of integers ---------\n",
    "questions_1_train = tokenizer.texts_to_sequences(questions_1_train)\n",
    "questions_2_train = tokenizer.texts_to_sequences(questions_2_train)\n",
    "questions_1_test = tokenizer.texts_to_sequences(questions_1_test)\n",
    "questions_2_test = tokenizer.texts_to_sequences(questions_2_test)\n",
    "\n",
    "word_index = tokenizer.word_index\n",
    "\n",
    "print(f\"Found {len(word_index)} unique tokens in data\")"
   ]
  },
  {
   "cell_type": "code",
   "execution_count": 12,
   "metadata": {},
   "outputs": [
    {
     "name": "stdout",
     "output_type": "stream",
     "text": [
      "1: the\n",
      "2: what\n",
      "3: is\n",
      "4: how\n",
      "5: i\n",
      "6: a\n",
      "7: in\n",
      "8: to\n",
      "9: of\n",
      "10: do\n",
      "131044: gustafsson\n",
      "131045: snapdealyesterday\n",
      "131046: lacon\n",
      "131047: low”\n",
      "131048: cronyism\n",
      "131049: coldplaythey\n",
      "131050: kicad\n",
      "131051: schemet\n",
      "131052: cvpcb\n",
      "131053: geostrategi\n",
      "131054: lothar\n",
      "131055: matthaus\n"
     ]
    }
   ],
   "source": [
    "# --------- Explore the dictionary of tokens ---------\n",
    "\n",
    "# Every word gets an integer value. Lower value means more frequent word. 0 is reserved for padding.\n",
    "for word, i in word_index.items(): \n",
    "    if (i <= 10) or (len(word_index)-30 < i < len(word_index)-17):\n",
    "        print(f\"{i}: {word}\")"
   ]
  },
  {
   "cell_type": "code",
   "execution_count": 13,
   "metadata": {},
   "outputs": [
    {
     "data": {
      "text/plain": [
       "[[2, 3, 1, 727, 62, 727, 2225, 8, 268, 7, 532, 213, 7, 35],\n",
       " [2, 3, 1, 369, 9, 12516, 18733, 3070],\n",
       " [4, 13, 5, 273, 1, 460, 9, 18, 372, 519, 176, 34, 6, 2575],\n",
       " [15, 72, 5, 1244, 307, 2675, 4, 13, 5, 562, 17]]"
      ]
     },
     "execution_count": 13,
     "metadata": {},
     "output_type": "execute_result"
    }
   ],
   "source": [
    "# Now the questions are (1, num_words) vectors\n",
    "questions_1_train[0:4]"
   ]
  },
  {
   "cell_type": "code",
   "execution_count": 14,
   "metadata": {},
   "outputs": [
    {
     "data": {
      "image/png": "[encoded data removed]",
      "text/plain": [
       "<Figure size 432x288 with 1 Axes>"
      ]
     },
     "metadata": {
      "needs_background": "light"
     },
     "output_type": "display_data"
    }
   ],
   "source": [
    "len_questions = [len(q) for q in questions_1_train]\n",
    "\n",
    "plt.hist(len_questions, bins = np.arange(0, 60, 2))\n",
    "plt.title(\"Questions' length in words\")\n",
    "plt.show()"
   ]
  },
  {
   "cell_type": "code",
   "execution_count": null,
   "metadata": {},
   "outputs": [],
   "source": [
    "# --------- Fix length of questions to 30 words ---------\n",
    "max_len = 30\n",
    "\n",
    "questions_1_train = pad_sequences(questions_1_train, maxlen = 30)\n",
    "questions_2_train = pad_sequences(questions_2_train, maxlen = 30)\n",
    "\n",
    "questions_1_test = pad_sequences(questions_1_test, maxlen = 30)\n",
    "questions_2_test = pad_sequences(questions_2_test, maxlen = 30)"
   ]
  },
  {
   "cell_type": "code",
   "execution_count": 16,
   "metadata": {},
   "outputs": [
    {
     "data": {
      "text/plain": [
       "array([[    0,     0,     0,     0,     0,     0,     0,     0,     0,\n",
       "            0,     0,     0,     0,     0,     0,     0,     2,     3,\n",
       "            1,   727,    62,   727,  2225,     8,   268,     7,   532,\n",
       "          213,     7,    35],\n",
       "       [    0,     0,     0,     0,     0,     0,     0,     0,     0,\n",
       "            0,     0,     0,     0,     0,     0,     0,     0,     0,\n",
       "            0,     0,     0,     0,     2,     3,     1,   369,     9,\n",
       "        12516, 18733,  3070],\n",
       "       [    0,     0,     0,     0,     0,     0,     0,     0,     0,\n",
       "            0,     0,     0,     0,     0,     0,     0,     4,    13,\n",
       "            5,   273,     1,   460,     9,    18,   372,   519,   176,\n",
       "           34,     6,  2575],\n",
       "       [    0,     0,     0,     0,     0,     0,     0,     0,     0,\n",
       "            0,     0,     0,     0,     0,     0,     0,     0,     0,\n",
       "            0,    15,    72,     5,  1244,   307,  2675,     4,    13,\n",
       "            5,   562,    17]], dtype=int32)"
      ]
     },
     "execution_count": 16,
     "metadata": {},
     "output_type": "execute_result"
    }
   ],
   "source": [
    "# Now the questions are (1, 30) vectors\n",
    "questions_1_train[0:4, :]"
   ]
  },
  {
   "cell_type": "markdown",
   "metadata": {},
   "source": [
    "## Get embeddings from GloVe"
   ]
  },
  {
   "cell_type": "markdown",
   "metadata": {},
   "source": [
    "The embedding text file has ~2.2M lines. Each line is a word followed by 300 coefficients, for example: \"and -0.18567 0.066008 -0.25209 -0.11725 0.26513 0.064908 0.12291...\""
   ]
  },
  {
   "cell_type": "code",
   "execution_count": 17,
   "metadata": {},
   "outputs": [
    {
     "name": "stdout",
     "output_type": "stream",
     "text": [
      "Found 2195875 valid word vectors\n"
     ]
    }
   ],
   "source": [
    "embeddings_dict = {}\n",
    "\n",
    "# --------- Save word vectors ---------\n",
    "with open(\"./input/glove.840B.300d.txt\", encoding = \"utf8\") as file:\n",
    "    for line in file:\n",
    "        parts = line.split()\n",
    "        # Get word and its coefs\n",
    "        try:\n",
    "            word = parts[0]\n",
    "            coefs = np.asarray(parts[1:], dtype = \"float32\")        \n",
    "        except:\n",
    "            pass\n",
    "        # Save to dict if shape is correct\n",
    "        if coefs.shape == (300,):\n",
    "            embeddings_dict[word] = coefs   \n",
    "\n",
    "print(f\"Found {len(embeddings_dict.values())} valid word vectors\")"
   ]
  },
  {
   "cell_type": "code",
   "execution_count": 18,
   "metadata": {},
   "outputs": [
    {
     "name": "stdout",
     "output_type": "stream",
     "text": [
      "Embedding matrix shape: (131073, 300)\n"
     ]
    }
   ],
   "source": [
    "num_words = min(200_000, len(word_index))\n",
    "embed_size = 300\n",
    "\n",
    "# Zero init for words not in GloVe\n",
    "embedding_matrix = np.zeros((num_words, embed_size))\n",
    "\n",
    "print(f\"Embedding matrix shape: {embedding_matrix.shape}\")"
   ]
  },
  {
   "cell_type": "code",
   "execution_count": 19,
   "metadata": {},
   "outputs": [
    {
     "name": "stdout",
     "output_type": "stream",
     "text": [
      "Found embedding for 54984 words\n"
     ]
    }
   ],
   "source": [
    "# --------- Search for embeddings from GloVe ---------\n",
    "num_found = 0\n",
    "for word, i in word_index.items(): # iterate over words found in data\n",
    "    if i >= num_words: \n",
    "        continue # if words found in data > vocab size: skip iteration\n",
    "    embedding_vector = embeddings_dict.get(word) # search for embedding from dict\n",
    "    if embedding_vector is not None:\n",
    "        num_found += 1\n",
    "        embedding_matrix[i] = embedding_vector # save vector to embedding matrix\n",
    "        \n",
    "print(f\"Found embedding for {num_found} words\")"
   ]
  },
  {
   "cell_type": "markdown",
   "metadata": {},
   "source": [
    "## Split data"
   ]
  },
  {
   "cell_type": "code",
   "execution_count": 32,
   "metadata": {},
   "outputs": [
    {
     "name": "stdout",
     "output_type": "stream",
     "text": [
      "Shape of training data: (343646, 30)\n",
      "Shape of validation data: (60644, 30)\n"
     ]
    }
   ],
   "source": [
    "train_size = 0.85\n",
    "\n",
    "# --------- Create shuffled list of indices ---------\n",
    "perm = np.random.permutation(len(questions_1_train))\n",
    "\n",
    "# --------- Set 85 % of those as train and rest as val ---------\n",
    "idx_train = perm[:int(len(questions_1_train)*train_size)]\n",
    "idx_val = perm[int(len(questions_1_train)*train_size):]\n",
    "\n",
    "# Input 1\n",
    "x_1_train = questions_1_train[idx_train]\n",
    "x_1_val = questions_1_train[idx_val]\n",
    "\n",
    "# Input 2\n",
    "x_2_train = questions_2_train[idx_train]\n",
    "x_2_val = questions_2_train[idx_val]\n",
    "\n",
    "# Targets\n",
    "y_train = labels_train[idx_train]\n",
    "y_val = labels_train[idx_val]\n",
    "\n",
    "print(f\"Shape of training data: {x_1_train.shape}\")\n",
    "print(f\"Shape of validation data: {x_1_val.shape}\")"
   ]
  },
  {
   "cell_type": "markdown",
   "metadata": {},
   "source": [
    "## Specify model"
   ]
  },
  {
   "cell_type": "code",
   "execution_count": null,
   "metadata": {},
   "outputs": [],
   "source": [
    "embedding_layer = Embedding(\n",
    "    num_words,\n",
    "    embed_size,\n",
    "    weights = [embedding_matrix],\n",
    "    input_length = max_len,\n",
    "    trainable = False\n",
    ")\n",
    "\n",
    "lstm_layer = LSTM(\n",
    "    350,\n",
    "    dropout = 0.2,\n",
    "    recurrent_dropout = 0.2\n",
    ")\n",
    "\n",
    "x_1_inp = Input(shape = (30,), dtype = \"int32\")\n",
    "x_1 = embedding_layer(x_1_inp)\n",
    "x_1 = lstm_layer(x_1)\n",
    "\n",
    "x_2_inp = Input(shape = (30,), dtype = \"int32\")\n",
    "x_2 = embedding_layer(x_2_inp)\n",
    "x_2 = lstm_layer(x_2)\n",
    "\n",
    "x = concatenate([x_1, x_2])\n",
    "x = Dropout(0.2)(x)\n",
    "x = Dense(250, activation = \"relu\")(x)\n",
    "x = Dropout(0.2)(x)\n",
    "x = Dense(125, activation = \"relu\")(x)\n",
    "x = Dropout(0.2)(x)\n",
    "x = Dense(1, activation = \"sigmoid\")(x)\n",
    "  \n",
    "model = Model(inputs = [x_1_inp, x_2_inp], outputs = x)\n",
    "\n",
    "model.compile(\n",
    "    loss = \"binary_crossentropy\",\n",
    "    optimizer = Nadam(lr = 2e-3, beta_1 = 0.9, beta_2 = 0.999),\n",
    "    metrics = [\"acc\"]\n",
    ")"
   ]
  },
  {
   "cell_type": "markdown",
   "metadata": {},
   "source": [
    "## Fit model"
   ]
  },
  {
   "cell_type": "code",
   "execution_count": 40,
   "metadata": {},
   "outputs": [
    {
     "name": "stdout",
     "output_type": "stream",
     "text": [
      "WARNING:tensorflow:From /home/antti/anaconda3/envs/conda-tf/lib/python3.7/site-packages/tensorflow/python/ops/math_ops.py:3066: to_int32 (from tensorflow.python.ops.math_ops) is deprecated and will be removed in a future version.\n",
      "Instructions for updating:\n",
      "Use tf.cast instead.\n",
      "Train on 343646 samples, validate on 60644 samples\n",
      "Epoch 1/50\n",
      "343646/343646 [==============================] - 47s 136us/step - loss: 0.5463 - acc: 0.7155 - val_loss: 0.4730 - val_acc: 0.7641\n",
      "Epoch 2/50\n",
      "343646/343646 [==============================] - 45s 131us/step - loss: 0.4629 - acc: 0.7711 - val_loss: 0.4311 - val_acc: 0.7925\n",
      "Epoch 3/50\n",
      "343646/343646 [==============================] - 45s 131us/step - loss: 0.4242 - acc: 0.7954 - val_loss: 0.4104 - val_acc: 0.8039\n",
      "Epoch 4/50\n",
      "343646/343646 [==============================] - 45s 132us/step - loss: 0.3955 - acc: 0.8120 - val_loss: 0.3921 - val_acc: 0.8165\n",
      "Epoch 5/50\n",
      "343646/343646 [==============================] - 45s 132us/step - loss: 0.3715 - acc: 0.8258 - val_loss: 0.3949 - val_acc: 0.8128\n",
      "Epoch 6/50\n",
      "343646/343646 [==============================] - 45s 132us/step - loss: 0.3519 - acc: 0.8368 - val_loss: 0.3764 - val_acc: 0.8251\n",
      "Epoch 7/50\n",
      "343646/343646 [==============================] - 45s 132us/step - loss: 0.3351 - acc: 0.8458 - val_loss: 0.3788 - val_acc: 0.8224\n",
      "Epoch 8/50\n",
      "343646/343646 [==============================] - 45s 132us/step - loss: 0.3188 - acc: 0.8553 - val_loss: 0.3685 - val_acc: 0.8309\n",
      "Epoch 9/50\n",
      "343646/343646 [==============================] - 45s 132us/step - loss: 0.3065 - acc: 0.8614 - val_loss: 0.3809 - val_acc: 0.8255\n",
      "Epoch 10/50\n",
      "343646/343646 [==============================] - 45s 132us/step - loss: 0.2948 - acc: 0.8676 - val_loss: 0.3712 - val_acc: 0.8303\n",
      "Epoch 11/50\n",
      "343646/343646 [==============================] - 45s 132us/step - loss: 0.2854 - acc: 0.8723 - val_loss: 0.3864 - val_acc: 0.8231\n"
     ]
    }
   ],
   "source": [
    "callbacks_list = [\n",
    "    EarlyStopping(monitor = \"val_loss\", patience = 3),\n",
    "    ModelCheckpoint(\"model.h5\", save_best_only = True, save_weights_only = True)\n",
    "]\n",
    "\n",
    "fit_log = model.fit(\n",
    "    [x_1_train, x_2_train],\n",
    "    y_train,\n",
    "    validation_data = ([x_1_val, x_2_val], y_val),\n",
    "    epochs = 50,\n",
    "    batch_size = 1024,\n",
    "    shuffle = True,\n",
    "    callbacks = callbacks_list\n",
    ")"
   ]
  },
  {
   "cell_type": "code",
   "execution_count": 41,
   "metadata": {},
   "outputs": [
    {
     "data": {
      "image/png": "[encoded data removed]",
      "text/plain": [
       "<Figure size 432x288 with 1 Axes>"
      ]
     },
     "metadata": {
      "needs_background": "light"
     },
     "output_type": "display_data"
    },
    {
     "data": {
      "image/png": "[encoded data removed]",
      "text/plain": [
       "<Figure size 432x288 with 1 Axes>"
      ]
     },
     "metadata": {
      "needs_background": "light"
     },
     "output_type": "display_data"
    }
   ],
   "source": [
    "fit_log_df = pd.DataFrame(fit_log.history)\n",
    "\n",
    "fit_log_df[[\"loss\", \"val_loss\"]].plot()\n",
    "plt.grid()\n",
    "\n",
    "fit_log_df[[\"acc\", \"val_acc\"]].plot()\n",
    "plt.grid()"
   ]
  },
  {
   "cell_type": "markdown",
   "metadata": {},
   "source": [
    "## Predict"
   ]
  },
  {
   "cell_type": "code",
   "execution_count": 42,
   "metadata": {},
   "outputs": [
    {
     "name": "stdout",
     "output_type": "stream",
     "text": [
      "2345796/2345796 [==============================] - 108s 46us/step\n"
     ]
    }
   ],
   "source": [
    "model.load_weights(\"model.h5\")\n",
    "\n",
    "preds = model.predict(\n",
    "    [questions_1_test, questions_2_test],\n",
    "    batch_size = 2048,\n",
    "    verbose = 1\n",
    ")"
   ]
  },
  {
   "cell_type": "code",
   "execution_count": 43,
   "metadata": {},
   "outputs": [],
   "source": [
    "submission = pd.DataFrame({\"test_id\": ids_test, \"is_duplicate\": preds.squeeze()})\n",
    "submission.to_csv(\"submission.csv\", index = False)"
   ]
  }
 ],
 "metadata": {
  "kernelspec": {
   "display_name": "Python 3",
   "language": "python",
   "name": "python3"
  },
  "language_info": {
   "codemirror_mode": {
    "name": "ipython",
    "version": 3
   },
   "file_extension": ".py",
   "mimetype": "text/x-python",
   "name": "python",
   "nbconvert_exporter": "python",
   "pygments_lexer": "ipython3",
   "version": "3.7.3"
  }
 },
 "nbformat": 4,
 "nbformat_minor": 4
}
